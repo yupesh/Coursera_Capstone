{
 "cells": [
  {
   "cell_type": "markdown",
   "metadata": {},
   "source": [
    "# Capstone Project - The Battle of the Neighborhoods (Week 1)\n",
    "### Applied Data Science Capstone by IBM/Coursera"
   ]
  },
  {
   "cell_type": "markdown",
   "metadata": {},
   "source": [
    "\n",
    "## Introduction: Research Problem <a name=\"introduction\"></a>"
   ]
  },
  {
   "cell_type": "markdown",
   "metadata": {},
   "source": [
    "In this Capstone Project we shall come up with a problem that uses the Foursquare location data to solve.\n",
    "At the beginning we used these location data for clustering neibhorhoods in New York and Toronto based on their venue information.\n",
    "But the resulting clusters based solely on a frequency of venue's category presented in a given neighborhood, didn't seem persuasive to me.\n",
    "\n",
    "I tried to figure out what data features can help here, to identify every single neigborhood.\n",
    "It's not enough to know which services are presented here, it would be more repesentative to know how pupular they are and/or satisfaction level of their customers.\n",
    "This information will better describe the objects we explore. Meaning if you want to know what is this neibhorhood about, you need to know which local services are most satisfactory for its residents and visitors.\n",
    "And this information seems much more useful for those who look for a new place to live in and do business.\n",
    "Besides this could be part of a more general problem: what are the key features to understand urban environment and estimate satisfaction level of its population. And may be happiness index and what does it depend on?"
   ]
  },
  {
   "cell_type": "markdown",
   "metadata": {},
   "source": [
    "## Data <a name=\"data\"></a>"
   ]
  },
  {
   "cell_type": "markdown",
   "metadata": {},
   "source": [
    "Data for neibhorhoods and its venues were explored in previous weeks of the project.\n",
    "To get venue rating from Foursquare API, we shall use premium call. With personal account Foursquare API allows not more than 500 premium calls per day, so we shall be intentive to get ratings for more than 1000 venues.\n",
    "Will write result to the file which will be read on next step and added more results then, plus use more than one account.\n",
    "\n",
    "After getting all the venues average ratings we just multiply onehot dummies of categories dataframe by column with venue ratings, so to get average rating for every venue instead of just '1'."
   ]
  }
 ],
 "metadata": {
  "kernelspec": {
   "display_name": "Python 3",
   "language": "python",
   "name": "python3"
  },
  "language_info": {
   "codemirror_mode": {
    "name": "ipython",
    "version": 3
   },
   "file_extension": ".py",
   "mimetype": "text/x-python",
   "name": "python",
   "nbconvert_exporter": "python",
   "pygments_lexer": "ipython3",
   "version": "3.9.1"
  }
 },
 "nbformat": 4,
 "nbformat_minor": 4
}
